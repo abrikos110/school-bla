{
 "cells": [
  {
   "cell_type": "code",
   "execution_count": 2,
   "metadata": {},
   "outputs": [],
   "source": [
    "import os, sys\n",
    "import time\n",
    "\n",
    "import multiprocessing as mp\n",
    "import itertools, functools\n",
    "import re\n",
    "\n",
    "import librosa, librosa.display\n",
    "\n",
    "import scipy\n",
    "import numpy as np\n",
    "import pandas as pd\n",
    "\n",
    "from sklearn.model_selection import train_test_split\n",
    "import torch, torch.nn as nn, torch.nn.functional as F, torch.autograd as ag\n",
    "\n",
    "\n",
    "import PyQt5\n",
    "import matplotlib.pyplot as plt\n",
    "\n",
    "import IPython\n",
    "from IPython.display import clear_output\n",
    "from tqdm import tqdm_notebook as tqdm_nb, trange\n",
    "\n",
    "from collections import defaultdict\n",
    "\n",
    "\n",
    "def next(iterator, default=None, count=1):\n",
    "    ans = None\n",
    "    for i in range(count):\n",
    "        try:\n",
    "            ans = __builtin__.next(iterator)\n",
    "        except StopIteration as exc:\n",
    "            if default is not None:\n",
    "                return default\n",
    "            else:\n",
    "                raise exc\n",
    "    return ans"
   ]
  },
  {
   "cell_type": "code",
   "execution_count": 3,
   "metadata": {},
   "outputs": [
    {
     "data": {
      "text/plain": [
       "torch.FloatTensor"
      ]
     },
     "execution_count": 3,
     "metadata": {},
     "output_type": "execute_result"
    }
   ],
   "source": [
    "torch.Tensor"
   ]
  },
  {
   "cell_type": "code",
   "execution_count": 2,
   "metadata": {},
   "outputs": [],
   "source": [
    "def get_spectgorgamm(fname, hop_length=512, n_mels=128):\n",
    "    y, sr = librosa.load(fname)\n",
    "    S = librosa.feature.melspectrogram(y, sr=sr, hop_length=hop_length, n_mels=n_mels)\n",
    "    log_S = librosa.amplitude_to_db(S, ref=np.max)\n",
    "    return log_S, sr\n",
    "\n",
    "def plot_spectrogramm(log_S, sr, cmap='viridis'):\n",
    "    plt.figure(figsize=(20,4))\n",
    "    librosa.display.specshow(log_S, sr=sr, x_axis='time', y_axis='mel', cmap=cmap)\n",
    "    plt.title('mel power spectrogram')\n",
    "    plt.colorbar(format='%+02.0f dB')\n",
    "    plt.tight_layout()"
   ]
  },
  {
   "cell_type": "code",
   "execution_count": 7,
   "metadata": {},
   "outputs": [
    {
     "name": "stderr",
     "output_type": "stream",
     "text": [
      "Z:\\Anaconda3\\lib\\site-packages\\torch\\serialization.py:325: SourceChangeWarning: source code of class 'torch.nn.modules.conv.Conv1d' has changed. you can retrieve the original source code by accessing the object's source attribute or set `torch.nn.Module.dump_patches = True` and use the patch tool to revert the changes.\n",
      "  warnings.warn(msg, SourceChangeWarning)\n"
     ]
    },
    {
     "ename": "AttributeError",
     "evalue": "Can't get attribute '_rebuild_tensor_v2' on <module 'torch._utils' from 'Z:\\\\Anaconda3\\\\lib\\\\site-packages\\\\torch\\\\_utils.py'>",
     "output_type": "error",
     "traceback": [
      "\u001b[1;31m---------------------------------------------------------------------------\u001b[0m",
      "\u001b[1;31mAttributeError\u001b[0m                            Traceback (most recent call last)",
      "\u001b[1;32m<ipython-input-7-86b47bcbfb92>\u001b[0m in \u001b[0;36m<module>\u001b[1;34m()\u001b[0m\n\u001b[1;32m----> 1\u001b[1;33m \u001b[0mtorch\u001b[0m\u001b[1;33m.\u001b[0m\u001b[0mload\u001b[0m\u001b[1;33m(\u001b[0m\u001b[1;34m'./saved/nn/siam-voice-to-vec.pt'\u001b[0m\u001b[1;33m)\u001b[0m\u001b[1;33m\u001b[0m\u001b[0m\n\u001b[0m",
      "\u001b[1;32mZ:\\Anaconda3\\lib\\site-packages\\torch\\serialization.py\u001b[0m in \u001b[0;36mload\u001b[1;34m(f, map_location, pickle_module)\u001b[0m\n\u001b[0;32m    265\u001b[0m         \u001b[0mf\u001b[0m \u001b[1;33m=\u001b[0m \u001b[0mopen\u001b[0m\u001b[1;33m(\u001b[0m\u001b[0mf\u001b[0m\u001b[1;33m,\u001b[0m \u001b[1;34m'rb'\u001b[0m\u001b[1;33m)\u001b[0m\u001b[1;33m\u001b[0m\u001b[0m\n\u001b[0;32m    266\u001b[0m     \u001b[1;32mtry\u001b[0m\u001b[1;33m:\u001b[0m\u001b[1;33m\u001b[0m\u001b[0m\n\u001b[1;32m--> 267\u001b[1;33m         \u001b[1;32mreturn\u001b[0m \u001b[0m_load\u001b[0m\u001b[1;33m(\u001b[0m\u001b[0mf\u001b[0m\u001b[1;33m,\u001b[0m \u001b[0mmap_location\u001b[0m\u001b[1;33m,\u001b[0m \u001b[0mpickle_module\u001b[0m\u001b[1;33m)\u001b[0m\u001b[1;33m\u001b[0m\u001b[0m\n\u001b[0m\u001b[0;32m    268\u001b[0m     \u001b[1;32mfinally\u001b[0m\u001b[1;33m:\u001b[0m\u001b[1;33m\u001b[0m\u001b[0m\n\u001b[0;32m    269\u001b[0m         \u001b[1;32mif\u001b[0m \u001b[0mnew_fd\u001b[0m\u001b[1;33m:\u001b[0m\u001b[1;33m\u001b[0m\u001b[0m\n",
      "\u001b[1;32mZ:\\Anaconda3\\lib\\site-packages\\torch\\serialization.py\u001b[0m in \u001b[0;36m_load\u001b[1;34m(f, map_location, pickle_module)\u001b[0m\n\u001b[0;32m    418\u001b[0m     \u001b[0munpickler\u001b[0m \u001b[1;33m=\u001b[0m \u001b[0mpickle_module\u001b[0m\u001b[1;33m.\u001b[0m\u001b[0mUnpickler\u001b[0m\u001b[1;33m(\u001b[0m\u001b[0mf\u001b[0m\u001b[1;33m)\u001b[0m\u001b[1;33m\u001b[0m\u001b[0m\n\u001b[0;32m    419\u001b[0m     \u001b[0munpickler\u001b[0m\u001b[1;33m.\u001b[0m\u001b[0mpersistent_load\u001b[0m \u001b[1;33m=\u001b[0m \u001b[0mpersistent_load\u001b[0m\u001b[1;33m\u001b[0m\u001b[0m\n\u001b[1;32m--> 420\u001b[1;33m     \u001b[0mresult\u001b[0m \u001b[1;33m=\u001b[0m \u001b[0munpickler\u001b[0m\u001b[1;33m.\u001b[0m\u001b[0mload\u001b[0m\u001b[1;33m(\u001b[0m\u001b[1;33m)\u001b[0m\u001b[1;33m\u001b[0m\u001b[0m\n\u001b[0m\u001b[0;32m    421\u001b[0m \u001b[1;33m\u001b[0m\u001b[0m\n\u001b[0;32m    422\u001b[0m     \u001b[0mdeserialized_storage_keys\u001b[0m \u001b[1;33m=\u001b[0m \u001b[0mpickle_module\u001b[0m\u001b[1;33m.\u001b[0m\u001b[0mload\u001b[0m\u001b[1;33m(\u001b[0m\u001b[0mf\u001b[0m\u001b[1;33m)\u001b[0m\u001b[1;33m\u001b[0m\u001b[0m\n",
      "\u001b[1;31mAttributeError\u001b[0m: Can't get attribute '_rebuild_tensor_v2' on <module 'torch._utils' from 'Z:\\\\Anaconda3\\\\lib\\\\site-packages\\\\torch\\\\_utils.py'>"
     ]
    }
   ],
   "source": [
    "torch.load('./saved/nn/siam-voice-to-vec.pt')"
   ]
  },
  {
   "cell_type": "code",
   "execution_count": 3,
   "metadata": {},
   "outputs": [],
   "source": [
    "def self_equal(sth):\n",
    "    return sth == sth\n",
    "\n",
    "def yield_all(sth, length):\n",
    "    for i in range(length):\n",
    "        yield sth[i]\n",
    "\n",
    "def refine_spectrogramm(x):\n",
    "    return np.concatenate(( x, -80 * np.ones((128, max(0, 300 - x.shape[1]))) ), axis=-1)[:, :300]"
   ]
  },
  {
   "cell_type": "raw",
   "metadata": {},
   "source": [
    "# For mining data from Common Voice corpus (https://voice.mozilla.org/)\n",
    "\n",
    "def compute_spectrogramm_and_save(args):\n",
    "    fname, gender, save_to, dirname = (\n",
    "        args[0].filename,\n",
    "        args[0].gender,\n",
    "        args[1],\n",
    "        args[2])\n",
    "    \n",
    "    spec = get_spectgorgamm(dirname + '/' + fname[fname.rfind('/')+1:])\n",
    "    np.save(save_to + '/' + gender + '_' + fname[fname.rfind('/')+1:], spec)\n",
    "\n",
    "def mine_data_from_cv_corpus(dirname, save_to):\n",
    "    '''There should be file `dirname`+\".csv\"'''\n",
    "    data = pd.read_csv(dirname + '.csv')\n",
    "    data = data[self_equal(data['gender'])]\n",
    "    \n",
    "    multiprocessing.Pool(os.cpu_count()).map(compute_spectrogramm_and_save,\n",
    "                                             zip(yield_all(data.iloc, data.shape[0]),\n",
    "                                                 itertools.cycle((save_to,)),\n",
    "                                                 itertools.cycle((dirname,))))"
   ]
  },
  {
   "cell_type": "raw",
   "metadata": {},
   "source": [
    "class GlobalMaxPool1d(nn.Module):\n",
    "    def forward(self, inp):\n",
    "        return torch.max(inp, dim=-1)[0]\n",
    "\n",
    "class MyNN(nn.Module):\n",
    "    def __init__(self):\n",
    "        super(self.__class__, self).__init__()\n",
    "        self.conv1 = nn.Conv1d(128, 256, 3)\n",
    "        self.conv2 = nn.Conv1d(256, 512, 3)\n",
    "\n",
    "        self.gmp1 = GlobalMaxPool1d()\n",
    "        self.dropout = nn.Dropout(0.2)\n",
    "        self.dense1 = nn.Linear(512, 2)\n",
    "\n",
    "    def forward(self, x):\n",
    "        x -= torch.min(torch.min(x, 2, keepdim=True)[0], 1, keepdim=True)[0]\n",
    "        x /= torch.max(torch.max(x, 2, keepdim=True)[0], 1, keepdim=True)[0]\n",
    "        #x = torch.transpose(x, 1, 2)\n",
    "        \n",
    "        conv1_out = nn.LeakyReLU()(self.conv1(x))\n",
    "        \n",
    "        conv2_out = nn.LeakyReLU()(self.conv2(conv1_out))\n",
    "        \n",
    "        gmp1_out = self.gmp1(conv2_out)\n",
    "        dense1_out = self.dense1(self.dropout(gmp1_out))\n",
    "        \n",
    "        return dense1_out"
   ]
  },
  {
   "cell_type": "markdown",
   "metadata": {},
   "source": [
    "# Mining data from [LibriSpeech](http://www.openslr.org/12/) dataset"
   ]
  },
  {
   "cell_type": "code",
   "execution_count": 4,
   "metadata": {},
   "outputs": [],
   "source": [
    "def compute_spectrogram_and_save(args):\n",
    "    full_fname, short_fname, dir_to_save = args\n",
    "    spec = list(get_spectgorgamm(full_fname))\n",
    "    spec[0] = refine_spectrogramm(spec[0])\n",
    "    np.save(dir_to_save + os.sep + short_fname + '.spec.npy', spec)\n",
    "\n",
    "def mine_from_LibriSpeech_audio(LibriSpeech_dir, dir_to_save, do_it=True):\n",
    "    fnames = []\n",
    "    for dir_dirs_files in os.walk(LibriSpeech_dir):\n",
    "        to_append = filter((lambda fname: fname.endswith('.flac')), dir_dirs_files[2])\n",
    "        to_append = map((lambda fname: (dir_dirs_files[0] + os.sep + fname, fname)), to_append)\n",
    "        fnames += list(to_append)\n",
    "    fnames = np.array(fnames)\n",
    "    \n",
    "    if do_it:\n",
    "        mp.Pool(os.cpu_count()).map(compute_spectrogram_and_save,\n",
    "                                    zip(fnames[:, 0], fnames[:, 1], itertools.cycle((dir_to_save,))) )\n",
    "    return fnames"
   ]
  },
  {
   "cell_type": "code",
   "execution_count": 18,
   "metadata": {},
   "outputs": [],
   "source": [
    "dir_to_save = './some-sound/LibriSpeech-melspecs-little/'\n",
    "LibriSpeech_dir = './LibriSpeech/train-other/LibriSpeech/train-other-500'"
   ]
  },
  {
   "cell_type": "code",
   "execution_count": 17,
   "metadata": {},
   "outputs": [],
   "source": [
    "#mine_from_LibriSpeech_audio(LibriSpeech_dir, dir_to_save, True)"
   ]
  },
  {
   "cell_type": "markdown",
   "metadata": {},
   "source": [
    "# Data"
   ]
  },
  {
   "cell_type": "code",
   "execution_count": 19,
   "metadata": {},
   "outputs": [],
   "source": [
    "fnames = next(os.walk(dir_to_save))[2]"
   ]
  },
  {
   "cell_type": "code",
   "execution_count": 20,
   "metadata": {},
   "outputs": [],
   "source": [
    "X = np.array([np.load(dir_to_save + os.sep + fname)[0] for fname in fnames])\n",
    "Y = np.array([int(fname[: fname.find('-')]) for fname in fnames])"
   ]
  },
  {
   "cell_type": "code",
   "execution_count": 21,
   "metadata": {},
   "outputs": [],
   "source": [
    "ind_tr, ind_ts = train_test_split(np.arange(len(Y)), test_size=0.1, random_state=97)"
   ]
  },
  {
   "cell_type": "code",
   "execution_count": 22,
   "metadata": {},
   "outputs": [],
   "source": [
    "Y_to_X_tr = defaultdict(list)\n",
    "for i in range(len(ind_tr)):\n",
    "    Y_to_X_tr[Y[ind_tr[i]]].append(i)\n",
    "for key in Y_to_X_tr:\n",
    "    Y_to_X_tr[key] = np.array(Y_to_X_tr[key])"
   ]
  },
  {
   "cell_type": "markdown",
   "metadata": {},
   "source": [
    "# Trying to train NN"
   ]
  },
  {
   "cell_type": "code",
   "execution_count": 8,
   "metadata": {},
   "outputs": [],
   "source": [
    "class GlobalMaxPool1d(nn.Module):\n",
    "    def forward(self, inp):\n",
    "        return torch.max(inp, dim=-1)[0]\n",
    "\n",
    "class VoiceToVec(nn.Module):\n",
    "    def __init__(self, out_size):\n",
    "        super(self.__class__, self).__init__()\n",
    "        self.conv1 = nn.Conv1d(128, 256, 3)\n",
    "        self.conv2 = nn.Conv1d(256, 512, 3)\n",
    "\n",
    "        self.gmp1 = GlobalMaxPool1d()\n",
    "        self.dropout = nn.Dropout(0.2)\n",
    "        self.dense1 = nn.Linear(512, out_size)\n",
    "\n",
    "    def forward(self, x):\n",
    "        x -= torch.min(torch.min(x, 2, keepdim=True)[0], 1, keepdim=True)[0]\n",
    "        x /= torch.max(torch.max(x, 2, keepdim=True)[0], 1, keepdim=True)[0]\n",
    "        \n",
    "        conv1_out = nn.LeakyReLU()(self.conv1(x))\n",
    "        \n",
    "        conv2_out = nn.LeakyReLU()(self.conv2(conv1_out))\n",
    "        \n",
    "        gmp1_out = self.gmp1(conv2_out)\n",
    "        dense1_out = self.dense1(self.dropout(gmp1_out))\n",
    "        \n",
    "        return dense1_out"
   ]
  },
  {
   "cell_type": "code",
   "execution_count": 9,
   "metadata": {},
   "outputs": [],
   "source": [
    "def random_triplet():\n",
    "    anc_pos_ind, neg_ind = np.random.choice(list(Y_to_X_tr.keys()), size=2, replace=False)\n",
    "\n",
    "    anchor, positive = np.random.choice(Y_to_X_tr[anc_pos_ind], size=2, replace=False)\n",
    "    negative = np.random.choice(Y_to_X_tr[neg_ind])\n",
    "    \n",
    "    return np.array([anchor, positive, negative])"
   ]
  },
  {
   "cell_type": "code",
   "execution_count": 11,
   "metadata": {},
   "outputs": [],
   "source": [
    "def random_multiplet(k):\n",
    "    anc_pos_ind, *neg_inds = np.random.choice(list(Y_to_X_tr.keys()), size=1+k, replace=False)\n",
    "\n",
    "    anchor, positive = np.random.choice(Y_to_X_tr[anc_pos_ind], size=2, replace=False)\n",
    "    *negatives, = (np.random.choice(Y_to_X_tr[neg_ind]) for neg_ind in neg_inds)\n",
    "    \n",
    "    return [anchor, positive, negatives]"
   ]
  },
  {
   "cell_type": "code",
   "execution_count": 86,
   "metadata": {},
   "outputs": [],
   "source": [
    "bla = random_triplet()"
   ]
  },
  {
   "cell_type": "code",
   "execution_count": 12,
   "metadata": {},
   "outputs": [],
   "source": [
    "def iterate_minibatch(batchsize):\n",
    "    for i in range(batchsize):\n",
    "        yield random_triplet()"
   ]
  },
  {
   "cell_type": "code",
   "execution_count": 90,
   "metadata": {},
   "outputs": [
    {
     "data": {
      "text/plain": [
       "array([  31, 1323, 2241])"
      ]
     },
     "execution_count": 90,
     "metadata": {},
     "output_type": "execute_result"
    }
   ],
   "source": [
    "bla"
   ]
  },
  {
   "cell_type": "code",
   "execution_count": 13,
   "metadata": {},
   "outputs": [],
   "source": [
    "def new_batch(batchsize):\n",
    "    return X[ind_tr[np.array(list(iterate_minibatch(batchsize))).T]]"
   ]
  },
  {
   "cell_type": "code",
   "execution_count": 14,
   "metadata": {},
   "outputs": [],
   "source": [
    "def sim(a, b):\n",
    "    return -((a-b) ** 2).sum(dim=-1)"
   ]
  },
  {
   "cell_type": "code",
   "execution_count": 30,
   "metadata": {},
   "outputs": [],
   "source": [
    "torch.set_num_threads(14)"
   ]
  },
  {
   "cell_type": "code",
   "execution_count": 31,
   "metadata": {},
   "outputs": [],
   "source": [
    "model = VoiceToVec(100)"
   ]
  },
  {
   "cell_type": "code",
   "execution_count": 32,
   "metadata": {},
   "outputs": [],
   "source": [
    "opt = torch.optim.Adam(model.parameters())"
   ]
  },
  {
   "cell_type": "code",
   "execution_count": 33,
   "metadata": {},
   "outputs": [
    {
     "ename": "TypeError",
     "evalue": "argument 0 is not a Variable",
     "output_type": "error",
     "traceback": [
      "\u001b[1;31m---------------------------------------------------------------------------\u001b[0m",
      "\u001b[1;31mTypeError\u001b[0m                                 Traceback (most recent call last)",
      "\u001b[1;32m<ipython-input-33-d0ef24802528>\u001b[0m in \u001b[0;36m<module>\u001b[1;34m()\u001b[0m\n\u001b[0;32m      1\u001b[0m \u001b[0manchor\u001b[0m\u001b[1;33m,\u001b[0m \u001b[0mpositive\u001b[0m\u001b[1;33m,\u001b[0m \u001b[0mnegative\u001b[0m \u001b[1;33m=\u001b[0m \u001b[0mtorch\u001b[0m\u001b[1;33m.\u001b[0m\u001b[0mFloatTensor\u001b[0m\u001b[1;33m(\u001b[0m\u001b[0mnew_batch\u001b[0m\u001b[1;33m(\u001b[0m\u001b[1;36m100\u001b[0m\u001b[1;33m)\u001b[0m\u001b[1;33m)\u001b[0m\u001b[1;33m\u001b[0m\u001b[0m\n\u001b[1;32m----> 2\u001b[1;33m \u001b[0manchor_vec\u001b[0m\u001b[1;33m,\u001b[0m \u001b[0mpositive_vec\u001b[0m\u001b[1;33m,\u001b[0m \u001b[0mnegative_vec\u001b[0m \u001b[1;33m=\u001b[0m \u001b[0mmap\u001b[0m\u001b[1;33m(\u001b[0m\u001b[0mmodel\u001b[0m\u001b[1;33m,\u001b[0m \u001b[1;33m(\u001b[0m\u001b[0manchor\u001b[0m\u001b[1;33m,\u001b[0m \u001b[0mpositive\u001b[0m\u001b[1;33m,\u001b[0m \u001b[0mnegative\u001b[0m\u001b[1;33m)\u001b[0m\u001b[1;33m)\u001b[0m\u001b[1;33m\u001b[0m\u001b[0m\n\u001b[0m\u001b[0;32m      3\u001b[0m \u001b[1;33m\u001b[0m\u001b[0m\n\u001b[0;32m      4\u001b[0m \u001b[0mloss\u001b[0m \u001b[1;33m=\u001b[0m \u001b[0mF\u001b[0m\u001b[1;33m.\u001b[0m\u001b[0mrelu\u001b[0m\u001b[1;33m(\u001b[0m\u001b[1;36m1\u001b[0m \u001b[1;33m+\u001b[0m \u001b[0msim\u001b[0m\u001b[1;33m(\u001b[0m\u001b[0manchor_vec\u001b[0m\u001b[1;33m,\u001b[0m \u001b[0mnegative_vec\u001b[0m\u001b[1;33m)\u001b[0m \u001b[1;33m-\u001b[0m \u001b[0msim\u001b[0m\u001b[1;33m(\u001b[0m\u001b[0manchor_vec\u001b[0m\u001b[1;33m,\u001b[0m \u001b[0mpositive_vec\u001b[0m\u001b[1;33m)\u001b[0m\u001b[1;33m)\u001b[0m\u001b[1;33m\u001b[0m\u001b[0m\n",
      "\u001b[1;32mZ:\\Anaconda3\\lib\\site-packages\\torch\\nn\\modules\\module.py\u001b[0m in \u001b[0;36m__call__\u001b[1;34m(self, *input, **kwargs)\u001b[0m\n\u001b[0;32m    355\u001b[0m             \u001b[0mresult\u001b[0m \u001b[1;33m=\u001b[0m \u001b[0mself\u001b[0m\u001b[1;33m.\u001b[0m\u001b[0m_slow_forward\u001b[0m\u001b[1;33m(\u001b[0m\u001b[1;33m*\u001b[0m\u001b[0minput\u001b[0m\u001b[1;33m,\u001b[0m \u001b[1;33m**\u001b[0m\u001b[0mkwargs\u001b[0m\u001b[1;33m)\u001b[0m\u001b[1;33m\u001b[0m\u001b[0m\n\u001b[0;32m    356\u001b[0m         \u001b[1;32melse\u001b[0m\u001b[1;33m:\u001b[0m\u001b[1;33m\u001b[0m\u001b[0m\n\u001b[1;32m--> 357\u001b[1;33m             \u001b[0mresult\u001b[0m \u001b[1;33m=\u001b[0m \u001b[0mself\u001b[0m\u001b[1;33m.\u001b[0m\u001b[0mforward\u001b[0m\u001b[1;33m(\u001b[0m\u001b[1;33m*\u001b[0m\u001b[0minput\u001b[0m\u001b[1;33m,\u001b[0m \u001b[1;33m**\u001b[0m\u001b[0mkwargs\u001b[0m\u001b[1;33m)\u001b[0m\u001b[1;33m\u001b[0m\u001b[0m\n\u001b[0m\u001b[0;32m    358\u001b[0m         \u001b[1;32mfor\u001b[0m \u001b[0mhook\u001b[0m \u001b[1;32min\u001b[0m \u001b[0mself\u001b[0m\u001b[1;33m.\u001b[0m\u001b[0m_forward_hooks\u001b[0m\u001b[1;33m.\u001b[0m\u001b[0mvalues\u001b[0m\u001b[1;33m(\u001b[0m\u001b[1;33m)\u001b[0m\u001b[1;33m:\u001b[0m\u001b[1;33m\u001b[0m\u001b[0m\n\u001b[0;32m    359\u001b[0m             \u001b[0mhook_result\u001b[0m \u001b[1;33m=\u001b[0m \u001b[0mhook\u001b[0m\u001b[1;33m(\u001b[0m\u001b[0mself\u001b[0m\u001b[1;33m,\u001b[0m \u001b[0minput\u001b[0m\u001b[1;33m,\u001b[0m \u001b[0mresult\u001b[0m\u001b[1;33m)\u001b[0m\u001b[1;33m\u001b[0m\u001b[0m\n",
      "\u001b[1;32m<ipython-input-8-9761dfccefd7>\u001b[0m in \u001b[0;36mforward\u001b[1;34m(self, x)\u001b[0m\n\u001b[0;32m     17\u001b[0m         \u001b[0mx\u001b[0m \u001b[1;33m/=\u001b[0m \u001b[0mtorch\u001b[0m\u001b[1;33m.\u001b[0m\u001b[0mmax\u001b[0m\u001b[1;33m(\u001b[0m\u001b[0mtorch\u001b[0m\u001b[1;33m.\u001b[0m\u001b[0mmax\u001b[0m\u001b[1;33m(\u001b[0m\u001b[0mx\u001b[0m\u001b[1;33m,\u001b[0m \u001b[1;36m2\u001b[0m\u001b[1;33m,\u001b[0m \u001b[0mkeepdim\u001b[0m\u001b[1;33m=\u001b[0m\u001b[1;32mTrue\u001b[0m\u001b[1;33m)\u001b[0m\u001b[1;33m[\u001b[0m\u001b[1;36m0\u001b[0m\u001b[1;33m]\u001b[0m\u001b[1;33m,\u001b[0m \u001b[1;36m1\u001b[0m\u001b[1;33m,\u001b[0m \u001b[0mkeepdim\u001b[0m\u001b[1;33m=\u001b[0m\u001b[1;32mTrue\u001b[0m\u001b[1;33m)\u001b[0m\u001b[1;33m[\u001b[0m\u001b[1;36m0\u001b[0m\u001b[1;33m]\u001b[0m\u001b[1;33m\u001b[0m\u001b[0m\n\u001b[0;32m     18\u001b[0m \u001b[1;33m\u001b[0m\u001b[0m\n\u001b[1;32m---> 19\u001b[1;33m         \u001b[0mconv1_out\u001b[0m \u001b[1;33m=\u001b[0m \u001b[0mnn\u001b[0m\u001b[1;33m.\u001b[0m\u001b[0mLeakyReLU\u001b[0m\u001b[1;33m(\u001b[0m\u001b[1;33m)\u001b[0m\u001b[1;33m(\u001b[0m\u001b[0mself\u001b[0m\u001b[1;33m.\u001b[0m\u001b[0mconv1\u001b[0m\u001b[1;33m(\u001b[0m\u001b[0mx\u001b[0m\u001b[1;33m)\u001b[0m\u001b[1;33m)\u001b[0m\u001b[1;33m\u001b[0m\u001b[0m\n\u001b[0m\u001b[0;32m     20\u001b[0m \u001b[1;33m\u001b[0m\u001b[0m\n\u001b[0;32m     21\u001b[0m         \u001b[0mconv2_out\u001b[0m \u001b[1;33m=\u001b[0m \u001b[0mnn\u001b[0m\u001b[1;33m.\u001b[0m\u001b[0mLeakyReLU\u001b[0m\u001b[1;33m(\u001b[0m\u001b[1;33m)\u001b[0m\u001b[1;33m(\u001b[0m\u001b[0mself\u001b[0m\u001b[1;33m.\u001b[0m\u001b[0mconv2\u001b[0m\u001b[1;33m(\u001b[0m\u001b[0mconv1_out\u001b[0m\u001b[1;33m)\u001b[0m\u001b[1;33m)\u001b[0m\u001b[1;33m\u001b[0m\u001b[0m\n",
      "\u001b[1;32mZ:\\Anaconda3\\lib\\site-packages\\torch\\nn\\modules\\module.py\u001b[0m in \u001b[0;36m__call__\u001b[1;34m(self, *input, **kwargs)\u001b[0m\n\u001b[0;32m    355\u001b[0m             \u001b[0mresult\u001b[0m \u001b[1;33m=\u001b[0m \u001b[0mself\u001b[0m\u001b[1;33m.\u001b[0m\u001b[0m_slow_forward\u001b[0m\u001b[1;33m(\u001b[0m\u001b[1;33m*\u001b[0m\u001b[0minput\u001b[0m\u001b[1;33m,\u001b[0m \u001b[1;33m**\u001b[0m\u001b[0mkwargs\u001b[0m\u001b[1;33m)\u001b[0m\u001b[1;33m\u001b[0m\u001b[0m\n\u001b[0;32m    356\u001b[0m         \u001b[1;32melse\u001b[0m\u001b[1;33m:\u001b[0m\u001b[1;33m\u001b[0m\u001b[0m\n\u001b[1;32m--> 357\u001b[1;33m             \u001b[0mresult\u001b[0m \u001b[1;33m=\u001b[0m \u001b[0mself\u001b[0m\u001b[1;33m.\u001b[0m\u001b[0mforward\u001b[0m\u001b[1;33m(\u001b[0m\u001b[1;33m*\u001b[0m\u001b[0minput\u001b[0m\u001b[1;33m,\u001b[0m \u001b[1;33m**\u001b[0m\u001b[0mkwargs\u001b[0m\u001b[1;33m)\u001b[0m\u001b[1;33m\u001b[0m\u001b[0m\n\u001b[0m\u001b[0;32m    358\u001b[0m         \u001b[1;32mfor\u001b[0m \u001b[0mhook\u001b[0m \u001b[1;32min\u001b[0m \u001b[0mself\u001b[0m\u001b[1;33m.\u001b[0m\u001b[0m_forward_hooks\u001b[0m\u001b[1;33m.\u001b[0m\u001b[0mvalues\u001b[0m\u001b[1;33m(\u001b[0m\u001b[1;33m)\u001b[0m\u001b[1;33m:\u001b[0m\u001b[1;33m\u001b[0m\u001b[0m\n\u001b[0;32m    359\u001b[0m             \u001b[0mhook_result\u001b[0m \u001b[1;33m=\u001b[0m \u001b[0mhook\u001b[0m\u001b[1;33m(\u001b[0m\u001b[0mself\u001b[0m\u001b[1;33m,\u001b[0m \u001b[0minput\u001b[0m\u001b[1;33m,\u001b[0m \u001b[0mresult\u001b[0m\u001b[1;33m)\u001b[0m\u001b[1;33m\u001b[0m\u001b[0m\n",
      "\u001b[1;32mZ:\\Anaconda3\\lib\\site-packages\\torch\\nn\\modules\\conv.py\u001b[0m in \u001b[0;36mforward\u001b[1;34m(self, input)\u001b[0m\n\u001b[0;32m    166\u001b[0m     \u001b[1;32mdef\u001b[0m \u001b[0mforward\u001b[0m\u001b[1;33m(\u001b[0m\u001b[0mself\u001b[0m\u001b[1;33m,\u001b[0m \u001b[0minput\u001b[0m\u001b[1;33m)\u001b[0m\u001b[1;33m:\u001b[0m\u001b[1;33m\u001b[0m\u001b[0m\n\u001b[0;32m    167\u001b[0m         return F.conv1d(input, self.weight, self.bias, self.stride,\n\u001b[1;32m--> 168\u001b[1;33m                         self.padding, self.dilation, self.groups)\n\u001b[0m\u001b[0;32m    169\u001b[0m \u001b[1;33m\u001b[0m\u001b[0m\n\u001b[0;32m    170\u001b[0m \u001b[1;33m\u001b[0m\u001b[0m\n",
      "\u001b[1;32mZ:\\Anaconda3\\lib\\site-packages\\torch\\nn\\functional.py\u001b[0m in \u001b[0;36mconv1d\u001b[1;34m(input, weight, bias, stride, padding, dilation, groups)\u001b[0m\n\u001b[0;32m     52\u001b[0m                 \u001b[0m_single\u001b[0m\u001b[1;33m(\u001b[0m\u001b[1;36m0\u001b[0m\u001b[1;33m)\u001b[0m\u001b[1;33m,\u001b[0m \u001b[0mgroups\u001b[0m\u001b[1;33m,\u001b[0m \u001b[0mtorch\u001b[0m\u001b[1;33m.\u001b[0m\u001b[0mbackends\u001b[0m\u001b[1;33m.\u001b[0m\u001b[0mcudnn\u001b[0m\u001b[1;33m.\u001b[0m\u001b[0mbenchmark\u001b[0m\u001b[1;33m,\u001b[0m\u001b[1;33m\u001b[0m\u001b[0m\n\u001b[0;32m     53\u001b[0m                 torch.backends.cudnn.deterministic, torch.backends.cudnn.enabled)\n\u001b[1;32m---> 54\u001b[1;33m     \u001b[1;32mreturn\u001b[0m \u001b[0mf\u001b[0m\u001b[1;33m(\u001b[0m\u001b[0minput\u001b[0m\u001b[1;33m,\u001b[0m \u001b[0mweight\u001b[0m\u001b[1;33m,\u001b[0m \u001b[0mbias\u001b[0m\u001b[1;33m)\u001b[0m\u001b[1;33m\u001b[0m\u001b[0m\n\u001b[0m\u001b[0;32m     55\u001b[0m \u001b[1;33m\u001b[0m\u001b[0m\n\u001b[0;32m     56\u001b[0m \u001b[1;33m\u001b[0m\u001b[0m\n",
      "\u001b[1;31mTypeError\u001b[0m: argument 0 is not a Variable"
     ]
    }
   ],
   "source": [
    "anchor, positive, negative = torch.FloatTensor(new_batch(100))\n",
    "anchor_vec, positive_vec, negative_vec = map(model, (anchor, positive, negative))\n",
    "\n",
    "loss = F.relu(1 + sim(anchor_vec, negative_vec) - sim(anchor_vec, positive_vec))"
   ]
  },
  {
   "cell_type": "code",
   "execution_count": 27,
   "metadata": {},
   "outputs": [],
   "source": [
    "cnt_epochs = 100"
   ]
  },
  {
   "cell_type": "code",
   "execution_count": 34,
   "metadata": {},
   "outputs": [
    {
     "data": {
      "text/plain": [
       "array([ 116,  116,  116, ..., 8288, 8288, 8288])"
      ]
     },
     "execution_count": 34,
     "metadata": {},
     "output_type": "execute_result"
    }
   ],
   "source": [
    "Y"
   ]
  },
  {
   "cell_type": "code",
   "execution_count": 29,
   "metadata": {},
   "outputs": [],
   "source": [
    "blavec = torch.zeros(100, 128, 300)\n",
    "model(blavec).sum().backward()"
   ]
  },
  {
   "cell_type": "code",
   "execution_count": 24,
   "metadata": {},
   "outputs": [
    {
     "data": {
      "text/plain": [
       "(3, 2, 128, 300)"
      ]
     },
     "execution_count": 24,
     "metadata": {},
     "output_type": "execute_result"
    }
   ],
   "source": [
    "new_batch(2).shape"
   ]
  },
  {
   "cell_type": "code",
   "execution_count": 28,
   "metadata": {},
   "outputs": [
    {
     "ename": "NameError",
     "evalue": "name 'model' is not defined",
     "output_type": "error",
     "traceback": [
      "\u001b[1;31m---------------------------------------------------------------------------\u001b[0m",
      "\u001b[1;31mNameError\u001b[0m                                 Traceback (most recent call last)",
      "\u001b[1;32m<ipython-input-28-790d9f9c70b5>\u001b[0m in \u001b[0;36m<module>\u001b[1;34m()\u001b[0m\n\u001b[0;32m      2\u001b[0m \u001b[1;33m\u001b[0m\u001b[0m\n\u001b[0;32m      3\u001b[0m \u001b[1;32mfor\u001b[0m \u001b[0mind_epoch\u001b[0m \u001b[1;32min\u001b[0m \u001b[0mrange\u001b[0m\u001b[1;33m(\u001b[0m\u001b[0mcnt_epochs\u001b[0m\u001b[1;33m)\u001b[0m\u001b[1;33m:\u001b[0m\u001b[1;33m\u001b[0m\u001b[0m\n\u001b[1;32m----> 4\u001b[1;33m     \u001b[0mmodel\u001b[0m\u001b[1;33m.\u001b[0m\u001b[0mtrain\u001b[0m\u001b[1;33m(\u001b[0m\u001b[1;32mTrue\u001b[0m\u001b[1;33m)\u001b[0m\u001b[1;33m\u001b[0m\u001b[0m\n\u001b[0m\u001b[0;32m      5\u001b[0m \u001b[1;33m\u001b[0m\u001b[0m\n\u001b[0;32m      6\u001b[0m     \u001b[0manchor\u001b[0m\u001b[1;33m,\u001b[0m \u001b[0mpositive\u001b[0m\u001b[1;33m,\u001b[0m \u001b[0mnegative\u001b[0m \u001b[1;33m=\u001b[0m \u001b[0mmap\u001b[0m\u001b[1;33m(\u001b[0m\u001b[0mtorch\u001b[0m\u001b[1;33m.\u001b[0m\u001b[0mFloatTensor\u001b[0m\u001b[1;33m,\u001b[0m \u001b[0mnew_batch\u001b[0m\u001b[1;33m(\u001b[0m\u001b[1;36m100\u001b[0m\u001b[1;33m)\u001b[0m\u001b[1;33m)\u001b[0m\u001b[1;33m\u001b[0m\u001b[0m\n",
      "\u001b[1;31mNameError\u001b[0m: name 'model' is not defined"
     ]
    }
   ],
   "source": [
    "losses = []\n",
    "\n",
    "for ind_epoch in range(cnt_epochs):\n",
    "    model.train(True)\n",
    "    \n",
    "    anchor, positive, negative = map(torch.FloatTensor, new_batch(100))\n",
    "    \n",
    "    anchor_vec, positive_vec, negative_vec = map(model, (anchor, positive, negative))\n",
    "    \n",
    "    loss = F.relu(1 + sim(anchor_vec, negative_vec) - sim(anchor_vec, positive_vec)).mean()\n",
    "    \n",
    "    loss.backward()\n",
    "    opt.step()\n",
    "    opt.zero_grad()\n",
    "    \n",
    "    losses.append(loss)\n",
    "    if ind_epoch % 1 == 0:\n",
    "        IPython.display.clear_output(True)\n",
    "        plt.plot(losses)\n",
    "        plt.show()"
   ]
  },
  {
   "cell_type": "code",
   "execution_count": 29,
   "metadata": {},
   "outputs": [
    {
     "ename": "NameError",
     "evalue": "name 'model' is not defined",
     "output_type": "error",
     "traceback": [
      "\u001b[1;31m---------------------------------------------------------------------------\u001b[0m",
      "\u001b[1;31mNameError\u001b[0m                                 Traceback (most recent call last)",
      "\u001b[1;32m<ipython-input-29-1f8a688cae5d>\u001b[0m in \u001b[0;36m<module>\u001b[1;34m()\u001b[0m\n\u001b[1;32m----> 1\u001b[1;33m \u001b[0mmodel\u001b[0m\u001b[1;33m\u001b[0m\u001b[0m\n\u001b[0m",
      "\u001b[1;31mNameError\u001b[0m: name 'model' is not defined"
     ]
    }
   ],
   "source": [
    "model"
   ]
  },
  {
   "cell_type": "markdown",
   "metadata": {},
   "source": [
    "# Testing accuracy"
   ]
  },
  {
   "cell_type": "code",
   "execution_count": 22,
   "metadata": {},
   "outputs": [],
   "source": [
    "model = torch.load('./siam-voice-to-vec.pt')"
   ]
  },
  {
   "cell_type": "code",
   "execution_count": null,
   "metadata": {},
   "outputs": [],
   "source": []
  },
  {
   "cell_type": "code",
   "execution_count": 105,
   "metadata": {},
   "outputs": [],
   "source": [
    "accs = []"
   ]
  },
  {
   "cell_type": "code",
   "execution_count": 106,
   "metadata": {},
   "outputs": [
    {
     "data": {
      "application/vnd.jupyter.widget-view+json": {
       "model_id": "2bdc074cfa0f4eaba1389dd496cafcad",
       "version_major": 2,
       "version_minor": 0
      },
      "text/html": [
       "<p>Failed to display Jupyter Widget of type <code>HBox</code>.</p>\n",
       "<p>\n",
       "  If you're reading this message in the Jupyter Notebook or JupyterLab Notebook, it may mean\n",
       "  that the widgets JavaScript is still loading. If this message persists, it\n",
       "  likely means that the widgets JavaScript library is either not installed or\n",
       "  not enabled. See the <a href=\"https://ipywidgets.readthedocs.io/en/stable/user_install.html\">Jupyter\n",
       "  Widgets Documentation</a> for setup instructions.\n",
       "</p>\n",
       "<p>\n",
       "  If you're reading this message in another frontend (for example, a static\n",
       "  rendering on GitHub or <a href=\"https://nbviewer.jupyter.org/\">NBViewer</a>),\n",
       "  it may mean that your frontend doesn't currently support widgets.\n",
       "</p>\n"
      ],
      "text/plain": [
       "HBox(children=(IntProgress(value=0), HTML(value='')))"
      ]
     },
     "metadata": {},
     "output_type": "display_data"
    },
    {
     "name": "stdout",
     "output_type": "stream",
     "text": [
      "\n",
      "\n",
      "0.9591\n"
     ]
    }
   ],
   "source": [
    "model.train(False)\n",
    "for i in tqdm_nb(range(100)):\n",
    "    with torch.no_grad():\n",
    "        anchor, positive, negative = map(torch.FloatTensor, new_batch(100))\n",
    "    \n",
    "        anchor_vec, positive_vec, negative_vec = map(model, (anchor, positive, negative))\n",
    "    \n",
    "        acc = (sim(anchor_vec, negative_vec) <= sim(anchor_vec, positive_vec)).numpy().mean()\n",
    "        accs.append(acc)\n",
    "print(np.mean(accs))"
   ]
  },
  {
   "cell_type": "code",
   "execution_count": 76,
   "metadata": {},
   "outputs": [],
   "source": [
    "accs = []"
   ]
  },
  {
   "cell_type": "code",
   "execution_count": 115,
   "metadata": {},
   "outputs": [
    {
     "data": {
      "text/plain": [
       "0.4065910789576807"
      ]
     },
     "execution_count": 115,
     "metadata": {},
     "output_type": "execute_result"
    }
   ],
   "source": [
    "0.956**20"
   ]
  },
  {
   "cell_type": "code",
   "execution_count": 112,
   "metadata": {},
   "outputs": [
    {
     "data": {
      "application/vnd.jupyter.widget-view+json": {
       "model_id": "bc8c5271adb9449f91b93c974079ca6e",
       "version_major": 2,
       "version_minor": 0
      },
      "text/html": [
       "<p>Failed to display Jupyter Widget of type <code>HBox</code>.</p>\n",
       "<p>\n",
       "  If you're reading this message in the Jupyter Notebook or JupyterLab Notebook, it may mean\n",
       "  that the widgets JavaScript is still loading. If this message persists, it\n",
       "  likely means that the widgets JavaScript library is either not installed or\n",
       "  not enabled. See the <a href=\"https://ipywidgets.readthedocs.io/en/stable/user_install.html\">Jupyter\n",
       "  Widgets Documentation</a> for setup instructions.\n",
       "</p>\n",
       "<p>\n",
       "  If you're reading this message in another frontend (for example, a static\n",
       "  rendering on GitHub or <a href=\"https://nbviewer.jupyter.org/\">NBViewer</a>),\n",
       "  it may mean that your frontend doesn't currently support widgets.\n",
       "</p>\n"
      ],
      "text/plain": [
       "HBox(children=(IntProgress(value=0, max=1000), HTML(value='')))"
      ]
     },
     "metadata": {},
     "output_type": "display_data"
    },
    {
     "name": "stdout",
     "output_type": "stream",
     "text": [
      "\n",
      "0.7848096774193548\n"
     ]
    }
   ],
   "source": [
    "cnt_negatives = 20\n",
    "\n",
    "model.train(False)\n",
    "for i in tqdm_nb(range(1000)):\n",
    "    with torch.no_grad():\n",
    "        anchor, positive, negatives = random_multiplet(cnt_negatives)\n",
    "        anchor, positive, negatives = X[ind_tr[anchor]], X[ind_tr[positive]], X[ind_tr[np.array(negatives)]]\n",
    "        anchor_vec, positive_vec = map(model, map(torch.FloatTensor, ([anchor], [positive])))\n",
    "        *negative_vecs, = model(torch.FloatTensor(negatives))\n",
    "        \n",
    "        anc_pos_sim = sim(anchor_vec, positive_vec)\n",
    "        good = (sim(anchor_vec, x) <= anc_pos_sim for x in negative_vecs) # \n",
    "        acc = sum(good) == cnt_negatives\n",
    "        \n",
    "        accs.append(acc)\n",
    "        \n",
    "print(np.mean(accs))"
   ]
  },
  {
   "cell_type": "markdown",
   "metadata": {},
   "source": [
    "# TODO: random_k_let"
   ]
  },
  {
   "cell_type": "code",
   "execution_count": 4,
   "metadata": {},
   "outputs": [],
   "source": [
    "from nearpy import Engine\n",
    "from nearpy.hashes import RandomBinaryProjections\n",
    "\n",
    "# Dimension of our vector space\n",
    "dimension = 500\n",
    "\n",
    "# Create a random binary hash with 10 bits\n",
    "rbp = RandomBinaryProjections('rbp', 10)\n",
    "\n",
    "# Create engine with pipeline configuration\n",
    "engine = Engine(dimension, lshashes=[rbp])\n",
    "\n",
    "# Index 1000000 random vectors (set their data to a unique string)\n",
    "for index in range(100000):\n",
    "    v = np.random.randn(dimension)\n",
    "    engine.store_vector(v, 'data_%d' % index)\n",
    "\n",
    "# Create random query vector\n",
    "query = np.random.randn(dimension)\n",
    "\n",
    "# Get nearest neighbours\n",
    "N = engine.neighbours(query)"
   ]
  },
  {
   "cell_type": "code",
   "execution_count": 6,
   "metadata": {},
   "outputs": [],
   "source": [
    "from sklearn.neighbors import BallTree"
   ]
  },
  {
   "cell_type": "code",
   "execution_count": null,
   "metadata": {},
   "outputs": [],
   "source": [
    "BallTree("
   ]
  },
  {
   "cell_type": "code",
   "execution_count": 24,
   "metadata": {},
   "outputs": [
    {
     "data": {
      "text/plain": [
       "(array([  2.,   0.,   2.,   6.,   2.,   3.,   1.,   2.,   2.,  12.,  13.,\n",
       "          4.,  10.,   7.,  16.,  19.,  19.,  33.,  22.,  48.,  46.,  51.,\n",
       "         56.,  61.,  71.,  62.,  80.,  99., 106., 104., 146., 133., 157.,\n",
       "        151., 199., 194., 212., 193., 212., 250., 240., 253., 265., 247.,\n",
       "        267., 298., 285., 276., 284., 279., 289., 311., 254., 248., 228.,\n",
       "        231., 227., 215., 220., 228., 222., 184., 184., 156., 139., 141.,\n",
       "        135., 126., 101.,  91.,  61.,  70.,  55.,  54.,  49.,  39.,  27.,\n",
       "         50.,  36.,  17.,  25.,  14.,  11.,   8.,  10.,   6.,  10.,   4.,\n",
       "          4.,   3.,   4.,   1.,   4.,   3.,   0.,   2.,   0.,   0.,   1.,\n",
       "          2.]),\n",
       " array([-3.4550227 , -3.38357395, -3.3121252 , -3.24067645, -3.16922769,\n",
       "        -3.09777894, -3.02633019, -2.95488144, -2.88343269, -2.81198393,\n",
       "        -2.74053518, -2.66908643, -2.59763768, -2.52618893, -2.45474017,\n",
       "        -2.38329142, -2.31184267, -2.24039392, -2.16894517, -2.09749641,\n",
       "        -2.02604766, -1.95459891, -1.88315016, -1.81170141, -1.74025265,\n",
       "        -1.6688039 , -1.59735515, -1.5259064 , -1.45445765, -1.3830089 ,\n",
       "        -1.31156014, -1.24011139, -1.16866264, -1.09721389, -1.02576514,\n",
       "        -0.95431638, -0.88286763, -0.81141888, -0.73997013, -0.66852138,\n",
       "        -0.59707262, -0.52562387, -0.45417512, -0.38272637, -0.31127762,\n",
       "        -0.23982886, -0.16838011, -0.09693136, -0.02548261,  0.04596614,\n",
       "         0.1174149 ,  0.18886365,  0.2603124 ,  0.33176115,  0.4032099 ,\n",
       "         0.47465866,  0.54610741,  0.61755616,  0.68900491,  0.76045366,\n",
       "         0.83190242,  0.90335117,  0.97479992,  1.04624867,  1.11769742,\n",
       "         1.18914618,  1.26059493,  1.33204368,  1.40349243,  1.47494118,\n",
       "         1.54638994,  1.61783869,  1.68928744,  1.76073619,  1.83218494,\n",
       "         1.9036337 ,  1.97508245,  2.0465312 ,  2.11797995,  2.1894287 ,\n",
       "         2.26087746,  2.33232621,  2.40377496,  2.47522371,  2.54667246,\n",
       "         2.61812122,  2.68956997,  2.76101872,  2.83246747,  2.90391622,\n",
       "         2.97536497,  3.04681373,  3.11826248,  3.18971123,  3.26115998,\n",
       "         3.33260873,  3.40405749,  3.47550624,  3.54695499,  3.61840374,\n",
       "         3.68985249]),\n",
       " <a list of 100 Patch objects>)"
      ]
     },
     "execution_count": 24,
     "metadata": {},
     "output_type": "execute_result"
    },
    {
     "data": {
      "image/png": "[encoded data removed]",
      "text/plain": [
       "<matplotlib.figure.Figure at 0x7fb83ebac080>"
      ]
     },
     "metadata": {},
     "output_type": "display_data"
    }
   ],
   "source": [
    "plt.hist(np.random.gumbel(size=10000), bins=100);\n",
    "plt.hist(np.random.normal(size=10000), bins=100)"
   ]
  },
  {
   "cell_type": "code",
   "execution_count": 21,
   "metadata": {},
   "outputs": [
    {
     "data": {
      "image/png": "[encoded data removed]",
      "text/plain": [
       "<matplotlib.figure.Figure at 0x7fb83e572f60>"
      ]
     },
     "metadata": {},
     "output_type": "display_data"
    },
    {
     "data": {
      "image/png": "[encoded data removed]",
      "text/plain": [
       "<matplotlib.figure.Figure at 0x7fb83e52f198>"
      ]
     },
     "metadata": {},
     "output_type": "display_data"
    },
    {
     "data": {
      "image/png": "[encoded data removed]",
      "text/plain": [
       "<matplotlib.figure.Figure at 0x7fb83e090f98>"
      ]
     },
     "metadata": {},
     "output_type": "display_data"
    },
    {
     "data": {
      "image/png": "[encoded data removed]",
      "text/plain": [
       "<matplotlib.figure.Figure at 0x7fb83e03d128>"
      ]
     },
     "metadata": {},
     "output_type": "display_data"
    },
    {
     "data": {
      "image/png": "[encoded data removed]",
      "text/plain": [
       "<matplotlib.figure.Figure at 0x7fb83e0c7208>"
      ]
     },
     "metadata": {},
     "output_type": "display_data"
    },
    {
     "data": {
      "image/png": "[encoded data removed]",
      "text/plain": [
       "<matplotlib.figure.Figure at 0x7fb8442e5f98>"
      ]
     },
     "metadata": {},
     "output_type": "display_data"
    },
    {
     "data": {
      "image/png": "[encoded data removed]",
      "text/plain": [
       "<matplotlib.figure.Figure at 0x7fb83e7035c0>"
      ]
     },
     "metadata": {},
     "output_type": "display_data"
    },
    {
     "data": {
      "image/png": "[encoded data removed]",
      "text/plain": [
       "<matplotlib.figure.Figure at 0x7fb83ec65550>"
      ]
     },
     "metadata": {},
     "output_type": "display_data"
    },
    {
     "data": {
      "image/png": "[encoded data removed]",
      "text/plain": [
       "<matplotlib.figure.Figure at 0x7fb83e019048>"
      ]
     },
     "metadata": {},
     "output_type": "display_data"
    }
   ],
   "source": [
    "for dim in [1, 2, 5, 10, 50, 100, 200, 500, 1000]:\n",
    "    z = np.random.gumbel(size=[10000, dim])\n",
    "    z_radius = (z ** 2).mean(-1)\n",
    "    plt.title(dim)\n",
    "    plt.hist(z_radius, range=[0, 10], bins=100)\n",
    "    plt.show()"
   ]
  },
  {
   "cell_type": "code",
   "execution_count": 11,
   "metadata": {},
   "outputs": [
    {
     "data": {
      "text/plain": [
       "(array([6.496e+03, 2.232e+03, 8.000e+02, 3.060e+02, 9.700e+01, 4.600e+01,\n",
       "        1.300e+01, 5.000e+00, 3.000e+00, 2.000e+00]),\n",
       " array([3.92213354e-05, 2.04752004e+00, 4.09500086e+00, 6.14248169e+00,\n",
       "        8.18996251e+00, 1.02374433e+01, 1.22849242e+01, 1.43324050e+01,\n",
       "        1.63798858e+01, 1.84273666e+01, 2.04748474e+01]),\n",
       " <a list of 10 Patch objects>)"
      ]
     },
     "execution_count": 11,
     "metadata": {},
     "output_type": "execute_result"
    },
    {
     "data": {
      "image/png": "[encoded data removed]",
      "text/plain": [
       "<matplotlib.figure.Figure at 0x7fb8441b2160>"
      ]
     },
     "metadata": {},
     "output_type": "display_data"
    }
   ],
   "source": []
  },
  {
   "cell_type": "code",
   "execution_count": null,
   "metadata": {},
   "outputs": [],
   "source": []
  }
 ],
 "metadata": {
  "kernelspec": {
   "display_name": "Python 3",
   "language": "python",
   "name": "python3"
  },
  "language_info": {
   "codemirror_mode": {
    "name": "ipython",
    "version": 3
   },
   "file_extension": ".py",
   "mimetype": "text/x-python",
   "name": "python",
   "nbconvert_exporter": "python",
   "pygments_lexer": "ipython3",
   "version": "3.6.4"
  }
 },
 "nbformat": 4,
 "nbformat_minor": 2
}
